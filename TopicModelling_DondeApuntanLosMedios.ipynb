{
 "cells": [
  {
   "cell_type": "markdown",
   "metadata": {},
   "source": [
    "# Algo como un topic modelling\n",
    "\n",
    "Idea: contar cuantas veces aparecen dentro de las noticias determinadas palabras asociadas con un tema. El fin es lograr saber cual es el énfasis que cierto medio le está poniendo a algún tema en particular\n",
    "."
   ]
  },
  {
   "cell_type": "code",
   "execution_count": 119,
   "metadata": {
    "ExecuteTime": {
     "end_time": "2019-10-25T17:22:06.822301Z",
     "start_time": "2019-10-25T17:22:06.015618Z"
    }
   },
   "outputs": [],
   "source": [
    "import pandas as pd\n",
    "import spacy\n",
    "import seaborn as sns\n",
    "\n",
    "nlp = spacy.load(\"es_core_news_sm\")"
   ]
  },
  {
   "cell_type": "markdown",
   "metadata": {
    "ExecuteTime": {
     "end_time": "2019-10-25T17:07:40.028857Z",
     "start_time": "2019-10-25T17:07:40.025862Z"
    }
   },
   "source": [
    "## Carga de los datos"
   ]
  },
  {
   "cell_type": "code",
   "execution_count": 76,
   "metadata": {
    "ExecuteTime": {
     "end_time": "2019-10-25T17:06:53.244527Z",
     "start_time": "2019-10-25T17:06:53.211616Z"
    },
    "scrolled": true
   },
   "outputs": [],
   "source": [
    "el_desconcierto = pd.read_json('./el_desconcierto.json', encoding='utf-8')\n",
    "biobio = pd.read_json('./biobio.json', encoding='utf-8')"
   ]
  },
  {
   "cell_type": "code",
   "execution_count": 79,
   "metadata": {
    "ExecuteTime": {
     "end_time": "2019-10-25T17:07:07.133228Z",
     "start_time": "2019-10-25T17:07:07.115276Z"
    }
   },
   "outputs": [
    {
     "data": {
      "text/html": [
       "<div>\n",
       "<style scoped>\n",
       "    .dataframe tbody tr th:only-of-type {\n",
       "        vertical-align: middle;\n",
       "    }\n",
       "\n",
       "    .dataframe tbody tr th {\n",
       "        vertical-align: top;\n",
       "    }\n",
       "\n",
       "    .dataframe thead th {\n",
       "        text-align: right;\n",
       "    }\n",
       "</style>\n",
       "<table border=\"1\" class=\"dataframe\">\n",
       "  <thead>\n",
       "    <tr style=\"text-align: right;\">\n",
       "      <th></th>\n",
       "      <th>link</th>\n",
       "      <th>category</th>\n",
       "      <th>title</th>\n",
       "      <th>subtitle</th>\n",
       "      <th>author</th>\n",
       "      <th>author_link</th>\n",
       "      <th>author_twitter</th>\n",
       "      <th>publication_date</th>\n",
       "      <th>content</th>\n",
       "      <th>tags</th>\n",
       "      <th>tags_links</th>\n",
       "    </tr>\n",
       "  </thead>\n",
       "  <tbody>\n",
       "    <tr>\n",
       "      <th>39</th>\n",
       "      <td>https://www.eldesconcierto.cl/2019/10/21/defie...</td>\n",
       "      <td>pais</td>\n",
       "      <td>Defienden el instituto de sus oficiales: milit...</td>\n",
       "      <td>Fuerzas Armadas rodean Escuela Militar tras av...</td>\n",
       "      <td>None</td>\n",
       "      <td>None</td>\n",
       "      <td>None</td>\n",
       "      <td>2019-10-21 00:00:00</td>\n",
       "      <td>FF.AA detuvo el avance de los manifestantes qu...</td>\n",
       "      <td>[Escuela Militar, FFAA, las condes, Maifestaci...</td>\n",
       "      <td>[https://www.eldesconcierto.cl/tag/escuela-mil...</td>\n",
       "    </tr>\n",
       "    <tr>\n",
       "      <th>96</th>\n",
       "      <td>https://www.eldesconcierto.cl/2019/10/20/plata...</td>\n",
       "      <td>pais</td>\n",
       "      <td>Plataforma Política Mapuche: “Es la misma mili...</td>\n",
       "      <td>La organización mapuche se refirió a la repres...</td>\n",
       "      <td>Natalia Figueroa</td>\n",
       "      <td>https://www.eldesconcierto.cl/author/natalia-f...</td>\n",
       "      <td>None</td>\n",
       "      <td>2019-10-20 00:00:00</td>\n",
       "      <td>La Plataforma Política Mapuche condenó de mane...</td>\n",
       "      <td>[comunidades mapuche, evasion, militarizacion,...</td>\n",
       "      <td>[https://www.eldesconcierto.cl/tag/comunidades...</td>\n",
       "    </tr>\n",
       "    <tr>\n",
       "      <th>108</th>\n",
       "      <td>https://www.eldesconcierto.cl/2019/10/19/decre...</td>\n",
       "      <td>pais</td>\n",
       "      <td>Decretan inédito toque de queda en Santiago tr...</td>\n",
       "      <td>La extrema medida, que no se aplicaba desde 19...</td>\n",
       "      <td>El Desconcierto</td>\n",
       "      <td>https://www.eldesconcierto.cl/author/eldesconc...</td>\n",
       "      <td>@eldesconcierto</td>\n",
       "      <td>2019-10-19 00:00:00</td>\n",
       "      <td>El general y jefe de la Defensa Nacional, Javi...</td>\n",
       "      <td>[Estado de emergencia, javier iturriaga, toque...</td>\n",
       "      <td>[https://www.eldesconcierto.cl/tag/estado-de-e...</td>\n",
       "    </tr>\n",
       "    <tr>\n",
       "      <th>57</th>\n",
       "      <td>https://www.eldesconcierto.cl/2019/10/21/bache...</td>\n",
       "      <td>pais</td>\n",
       "      <td>Bachelet critica el uso de “retórica inflamato...</td>\n",
       "      <td>La Alta Comisionada para los Derechos Humanos ...</td>\n",
       "      <td>El Desconcierto</td>\n",
       "      <td>https://www.eldesconcierto.cl/author/eldesconc...</td>\n",
       "      <td>@eldesconcierto</td>\n",
       "      <td>2019-10-21 00:00:00</td>\n",
       "      <td>Este lunes, en el cuarto día de movilizaciones...</td>\n",
       "      <td>[Alta Comisionada de Derechos Humanos, ddhh, M...</td>\n",
       "      <td>[https://www.eldesconcierto.cl/tag/alta-comisi...</td>\n",
       "    </tr>\n",
       "    <tr>\n",
       "      <th>64</th>\n",
       "      <td>https://www.eldesconcierto.cl/2019/10/21/tiene...</td>\n",
       "      <td>pais</td>\n",
       "      <td>“Tienes diez segundos para arrancar”: El video...</td>\n",
       "      <td>El Desconcierto confirmó la veracidad de un im...</td>\n",
       "      <td>None</td>\n",
       "      <td>None</td>\n",
       "      <td>None</td>\n",
       "      <td>2019-10-21 00:00:00</td>\n",
       "      <td>Cerca de la medianoche de este domingo, en la ...</td>\n",
       "      <td>[Claudia Mix, Comisión de Derechos Humanos de ...</td>\n",
       "      <td>[https://www.eldesconcierto.cl/tag/claudia-mix...</td>\n",
       "    </tr>\n",
       "  </tbody>\n",
       "</table>\n",
       "</div>"
      ],
      "text/plain": [
       "                                                  link category  \\\n",
       "39   https://www.eldesconcierto.cl/2019/10/21/defie...     pais   \n",
       "96   https://www.eldesconcierto.cl/2019/10/20/plata...     pais   \n",
       "108  https://www.eldesconcierto.cl/2019/10/19/decre...     pais   \n",
       "57   https://www.eldesconcierto.cl/2019/10/21/bache...     pais   \n",
       "64   https://www.eldesconcierto.cl/2019/10/21/tiene...     pais   \n",
       "\n",
       "                                                 title  \\\n",
       "39   Defienden el instituto de sus oficiales: milit...   \n",
       "96   Plataforma Política Mapuche: “Es la misma mili...   \n",
       "108  Decretan inédito toque de queda en Santiago tr...   \n",
       "57   Bachelet critica el uso de “retórica inflamato...   \n",
       "64   “Tienes diez segundos para arrancar”: El video...   \n",
       "\n",
       "                                              subtitle            author  \\\n",
       "39   Fuerzas Armadas rodean Escuela Militar tras av...              None   \n",
       "96   La organización mapuche se refirió a la repres...  Natalia Figueroa   \n",
       "108  La extrema medida, que no se aplicaba desde 19...   El Desconcierto   \n",
       "57   La Alta Comisionada para los Derechos Humanos ...   El Desconcierto   \n",
       "64   El Desconcierto confirmó la veracidad de un im...              None   \n",
       "\n",
       "                                           author_link   author_twitter  \\\n",
       "39                                                None             None   \n",
       "96   https://www.eldesconcierto.cl/author/natalia-f...             None   \n",
       "108  https://www.eldesconcierto.cl/author/eldesconc...  @eldesconcierto   \n",
       "57   https://www.eldesconcierto.cl/author/eldesconc...  @eldesconcierto   \n",
       "64                                                None             None   \n",
       "\n",
       "        publication_date                                            content  \\\n",
       "39   2019-10-21 00:00:00  FF.AA detuvo el avance de los manifestantes qu...   \n",
       "96   2019-10-20 00:00:00  La Plataforma Política Mapuche condenó de mane...   \n",
       "108  2019-10-19 00:00:00  El general y jefe de la Defensa Nacional, Javi...   \n",
       "57   2019-10-21 00:00:00  Este lunes, en el cuarto día de movilizaciones...   \n",
       "64   2019-10-21 00:00:00  Cerca de la medianoche de este domingo, en la ...   \n",
       "\n",
       "                                                  tags  \\\n",
       "39   [Escuela Militar, FFAA, las condes, Maifestaci...   \n",
       "96   [comunidades mapuche, evasion, militarizacion,...   \n",
       "108  [Estado de emergencia, javier iturriaga, toque...   \n",
       "57   [Alta Comisionada de Derechos Humanos, ddhh, M...   \n",
       "64   [Claudia Mix, Comisión de Derechos Humanos de ...   \n",
       "\n",
       "                                            tags_links  \n",
       "39   [https://www.eldesconcierto.cl/tag/escuela-mil...  \n",
       "96   [https://www.eldesconcierto.cl/tag/comunidades...  \n",
       "108  [https://www.eldesconcierto.cl/tag/estado-de-e...  \n",
       "57   [https://www.eldesconcierto.cl/tag/alta-comisi...  \n",
       "64   [https://www.eldesconcierto.cl/tag/claudia-mix...  "
      ]
     },
     "execution_count": 79,
     "metadata": {},
     "output_type": "execute_result"
    }
   ],
   "source": [
    "el_desconcierto.sample(5)"
   ]
  },
  {
   "cell_type": "markdown",
   "metadata": {},
   "source": [
    "## Grupos (definidos arbitrariamente)\n",
    "\n",
    "Probablemente haya que hacer una definición mucho mejor, pero este es el comienzo..."
   ]
  },
  {
   "cell_type": "code",
   "execution_count": 21,
   "metadata": {
    "ExecuteTime": {
     "end_time": "2019-10-25T16:40:01.802526Z",
     "start_time": "2019-10-25T16:40:01.797512Z"
    }
   },
   "outputs": [],
   "source": [
    "group1 = [\n",
    "    'chadwick', 'interior', 'piñera', 'presidente', 'ministros', 'iturriaga',\n",
    "    'hutt', 'gobierno', 'excepción'\n",
    "]\n",
    "group2 = [\n",
    "    'asaltos', 'asalto', 'destrozos', 'saqueo', 'saqueos', 'robos',\n",
    "    'supermercados', 'violencia', 'vandalismo'\n",
    "]\n",
    "group3 = [\n",
    "    'afp', 'isapre', 'isapres', 'movimiento', 'justicia', 'constitución',\n",
    "    'pacto', 'social', 'desigualdad', 'lucha', 'demandas', 'sociales'\n",
    "]\n",
    "group4 = [\n",
    "    'militares', 'pacos', 'policia', 'paco', 'carabinero', 'disparo', 'carro',\n",
    "    'lacrimógena', 'represión', 'apaciguamiento'\n",
    "]\n",
    "group5 = [\n",
    "    'violación', 'derechos', 'humanos', 'detención', 'heridas', 'asesinatos'\n",
    "]"
   ]
  },
  {
   "cell_type": "code",
   "execution_count": 32,
   "metadata": {
    "ExecuteTime": {
     "end_time": "2019-10-25T16:47:59.921552Z",
     "start_time": "2019-10-25T16:47:59.916565Z"
    }
   },
   "outputs": [],
   "source": []
  },
  {
   "cell_type": "markdown",
   "metadata": {},
   "source": [
    "## Procesar tópicos \n",
    "\n",
    "Lematizarlos y dejarlos en una estructura semilegible."
   ]
  },
  {
   "cell_type": "code",
   "execution_count": 34,
   "metadata": {
    "ExecuteTime": {
     "end_time": "2019-10-25T16:50:01.305476Z",
     "start_time": "2019-10-25T16:50:01.257390Z"
    }
   },
   "outputs": [],
   "source": [
    "topics = [('gobierno', ' '.join(group1)), ('vandalismo', ' '.join(group2)),\n",
    "          ('movimiento social', ' '.join(group3)),\n",
    "          ('represión', ' '.join(group4)),\n",
    "          ('derechos humanos', ' '.join(group5))]\n",
    "\n",
    "tokenized_topics = []\n",
    "for topic_name, topic_words in topics:\n",
    "    tokenized_topics.append(\n",
    "        (topic_name, [token.lemma_ for token in nlp(topic_words)]))"
   ]
  },
  {
   "cell_type": "markdown",
   "metadata": {},
   "source": [
    "## Procesar las noticias a partir de los tópicos"
   ]
  },
  {
   "cell_type": "code",
   "execution_count": 50,
   "metadata": {
    "ExecuteTime": {
     "end_time": "2019-10-25T16:56:24.039899Z",
     "start_time": "2019-10-25T16:56:24.034949Z"
    }
   },
   "outputs": [],
   "source": [
    "def process_news_item(news_item, tokenized_topics):\n",
    "\n",
    "    # lematizar la noticia\n",
    "    news_item_tokens = [token.lemma_ for token in nlp(news_item)]\n",
    "\n",
    "    token_founded_by_topic = {}\n",
    "    \n",
    "    # por cada tópico\n",
    "    for topic_name, topic_tokens in tokenized_topics:\n",
    "        token_founded_by_topic[topic_name] = 0\n",
    "        # encontrar las ocurrencias de las palabras del topico en la noticia actual.\n",
    "        for topic_token in topic_tokens:\n",
    "            if topic_token in news_item_tokens:\n",
    "                token_founded_by_topic[topic_name] += 1\n",
    "\n",
    "    return token_founded_by_topic"
   ]
  },
  {
   "cell_type": "markdown",
   "metadata": {
    "ExecuteTime": {
     "end_time": "2019-10-25T17:09:37.912287Z",
     "start_time": "2019-10-25T17:09:37.910286Z"
    }
   },
   "source": [
    "### Por ejemplo, para una noticia:"
   ]
  },
  {
   "cell_type": "code",
   "execution_count": 56,
   "metadata": {
    "ExecuteTime": {
     "end_time": "2019-10-25T16:58:11.822889Z",
     "start_time": "2019-10-25T16:58:11.764410Z"
    }
   },
   "outputs": [
    {
     "data": {
      "text/plain": [
       "{'gobierno': 2,\n",
       " 'vandalismo': 0,\n",
       " 'movimiento social': 1,\n",
       " 'represión': 1,\n",
       " 'derechos humanos': 0}"
      ]
     },
     "execution_count": 56,
     "metadata": {},
     "output_type": "execute_result"
    }
   ],
   "source": [
    "news_item = el_desconcierto.content.values[100]\n",
    "process_news_item(news_item, tokenized_topics)"
   ]
  },
  {
   "cell_type": "markdown",
   "metadata": {},
   "source": [
    "### Otener resultados para todo el dataset"
   ]
  },
  {
   "cell_type": "code",
   "execution_count": 82,
   "metadata": {
    "ExecuteTime": {
     "end_time": "2019-10-25T17:11:11.312350Z",
     "start_time": "2019-10-25T17:11:11.305368Z"
    }
   },
   "outputs": [],
   "source": [
    "def process_all_dataset(dataset, tokenized_topics):\n",
    "\n",
    "    general_count = {}\n",
    "    for topic_name, topic_tokens in tokenized_topics:\n",
    "        general_count[topic_name] = 0\n",
    "    \n",
    "    # contar las apariciones de los terminos\n",
    "    for news_item in dataset:\n",
    "        current_analyzed_news_item = process_news_item(news_item, tokenized_topics)\n",
    "        for key in current_analyzed_news_item.keys():\n",
    "            general_count[key] += current_analyzed_news_item[key]\n",
    "            \n",
    "    # normalizar (para obtener los porcentajes)\n",
    "    accumulator = 0\n",
    "    for key in general_count.keys():\n",
    "        accumulator += general_count[key] \n",
    "\n",
    "    normalized_general_count = {}\n",
    "    for key in general_count.keys():\n",
    "        normalized_general_count[key] = general_count[key] / accumulator\n",
    "    \n",
    "    return general_count, normalized_general_count"
   ]
  },
  {
   "cell_type": "code",
   "execution_count": 85,
   "metadata": {
    "ExecuteTime": {
     "end_time": "2019-10-25T17:12:19.113445Z",
     "start_time": "2019-10-25T17:12:13.549549Z"
    }
   },
   "outputs": [],
   "source": [
    "resultados_el_desconcierto = process_all_dataset(el_desconcierto.content.values, tokenized_topics)\n",
    "resultados_biobio = process_all_dataset(biobio.content.values, tokenized_topics)"
   ]
  },
  {
   "cell_type": "code",
   "execution_count": 117,
   "metadata": {
    "ExecuteTime": {
     "end_time": "2019-10-25T17:21:36.051245Z",
     "start_time": "2019-10-25T17:21:36.046300Z"
    }
   },
   "outputs": [
    {
     "data": {
      "text/plain": [
       "({'gobierno': 115,\n",
       "  'vandalismo': 66,\n",
       "  'movimiento social': 134,\n",
       "  'represión': 102,\n",
       "  'derechos humanos': 89},\n",
       " {'gobierno': 0.22727272727272727,\n",
       "  'vandalismo': 0.13043478260869565,\n",
       "  'movimiento social': 0.2648221343873518,\n",
       "  'represión': 0.2015810276679842,\n",
       "  'derechos humanos': 0.17588932806324112})"
      ]
     },
     "execution_count": 117,
     "metadata": {},
     "output_type": "execute_result"
    }
   ],
   "source": [
    "resultados_el_desconcierto"
   ]
  },
  {
   "cell_type": "code",
   "execution_count": 118,
   "metadata": {
    "ExecuteTime": {
     "end_time": "2019-10-25T17:21:38.834959Z",
     "start_time": "2019-10-25T17:21:38.829974Z"
    }
   },
   "outputs": [
    {
     "data": {
      "text/plain": [
       "({'gobierno': 161,\n",
       "  'vandalismo': 204,\n",
       "  'movimiento social': 282,\n",
       "  'represión': 167,\n",
       "  'derechos humanos': 96},\n",
       " {'gobierno': 0.17692307692307693,\n",
       "  'vandalismo': 0.22417582417582418,\n",
       "  'movimiento social': 0.3098901098901099,\n",
       "  'represión': 0.1835164835164835,\n",
       "  'derechos humanos': 0.1054945054945055})"
      ]
     },
     "execution_count": 118,
     "metadata": {},
     "output_type": "execute_result"
    }
   ],
   "source": [
    "resultados_biobio"
   ]
  },
  {
   "cell_type": "code",
   "execution_count": 109,
   "metadata": {
    "ExecuteTime": {
     "end_time": "2019-10-25T17:19:20.578792Z",
     "start_time": "2019-10-25T17:19:20.573806Z"
    }
   },
   "outputs": [],
   "source": [
    "def reshape_results(normalized_results):\n",
    "    reshaped_results = {'topic': [], 'percentage': []}\n",
    "\n",
    "    for key in normalized_results.keys():\n",
    "\n",
    "        reshaped_results['topic'] = reshaped_results['topic'] + [key]\n",
    "        reshaped_results['percentage'] = reshaped_results['percentage'] + [\n",
    "            normalized_results[key]\n",
    "        ]\n",
    "    return pd.DataFrame(reshaped_results)"
   ]
  },
  {
   "cell_type": "markdown",
   "metadata": {},
   "source": [
    "## Unificar información en un dataframe"
   ]
  },
  {
   "cell_type": "code",
   "execution_count": 112,
   "metadata": {
    "ExecuteTime": {
     "end_time": "2019-10-25T17:19:51.769917Z",
     "start_time": "2019-10-25T17:19:51.763934Z"
    }
   },
   "outputs": [],
   "source": [
    "biobio_reshaped = reshape_results(resultados_biobio[1])\n",
    "el_desconcierto_reshaped = reshape_results(resultados_el_desconcierto[1])"
   ]
  },
  {
   "cell_type": "code",
   "execution_count": 113,
   "metadata": {
    "ExecuteTime": {
     "end_time": "2019-10-25T17:20:55.756298Z",
     "start_time": "2019-10-25T17:20:55.751299Z"
    }
   },
   "outputs": [],
   "source": [
    "biobio_reshaped['source'] = 'Biobio'\n",
    "el_desconcierto_reshaped['source'] = 'El Desconcierto'"
   ]
  },
  {
   "cell_type": "code",
   "execution_count": 116,
   "metadata": {
    "ExecuteTime": {
     "end_time": "2019-10-25T17:21:25.704086Z",
     "start_time": "2019-10-25T17:21:25.693081Z"
    }
   },
   "outputs": [
    {
     "data": {
      "text/html": [
       "<div>\n",
       "<style scoped>\n",
       "    .dataframe tbody tr th:only-of-type {\n",
       "        vertical-align: middle;\n",
       "    }\n",
       "\n",
       "    .dataframe tbody tr th {\n",
       "        vertical-align: top;\n",
       "    }\n",
       "\n",
       "    .dataframe thead th {\n",
       "        text-align: right;\n",
       "    }\n",
       "</style>\n",
       "<table border=\"1\" class=\"dataframe\">\n",
       "  <thead>\n",
       "    <tr style=\"text-align: right;\">\n",
       "      <th></th>\n",
       "      <th>topic</th>\n",
       "      <th>percentage</th>\n",
       "      <th>source</th>\n",
       "    </tr>\n",
       "  </thead>\n",
       "  <tbody>\n",
       "    <tr>\n",
       "      <th>0</th>\n",
       "      <td>gobierno</td>\n",
       "      <td>0.176923</td>\n",
       "      <td>Biobio</td>\n",
       "    </tr>\n",
       "    <tr>\n",
       "      <th>1</th>\n",
       "      <td>vandalismo</td>\n",
       "      <td>0.224176</td>\n",
       "      <td>Biobio</td>\n",
       "    </tr>\n",
       "    <tr>\n",
       "      <th>2</th>\n",
       "      <td>movimiento social</td>\n",
       "      <td>0.309890</td>\n",
       "      <td>Biobio</td>\n",
       "    </tr>\n",
       "    <tr>\n",
       "      <th>3</th>\n",
       "      <td>represión</td>\n",
       "      <td>0.183516</td>\n",
       "      <td>Biobio</td>\n",
       "    </tr>\n",
       "    <tr>\n",
       "      <th>4</th>\n",
       "      <td>derechos humanos</td>\n",
       "      <td>0.105495</td>\n",
       "      <td>Biobio</td>\n",
       "    </tr>\n",
       "    <tr>\n",
       "      <th>0</th>\n",
       "      <td>gobierno</td>\n",
       "      <td>0.227273</td>\n",
       "      <td>El Desconcierto</td>\n",
       "    </tr>\n",
       "    <tr>\n",
       "      <th>1</th>\n",
       "      <td>vandalismo</td>\n",
       "      <td>0.130435</td>\n",
       "      <td>El Desconcierto</td>\n",
       "    </tr>\n",
       "    <tr>\n",
       "      <th>2</th>\n",
       "      <td>movimiento social</td>\n",
       "      <td>0.264822</td>\n",
       "      <td>El Desconcierto</td>\n",
       "    </tr>\n",
       "    <tr>\n",
       "      <th>3</th>\n",
       "      <td>represión</td>\n",
       "      <td>0.201581</td>\n",
       "      <td>El Desconcierto</td>\n",
       "    </tr>\n",
       "    <tr>\n",
       "      <th>4</th>\n",
       "      <td>derechos humanos</td>\n",
       "      <td>0.175889</td>\n",
       "      <td>El Desconcierto</td>\n",
       "    </tr>\n",
       "  </tbody>\n",
       "</table>\n",
       "</div>"
      ],
      "text/plain": [
       "               topic  percentage           source\n",
       "0           gobierno    0.176923           Biobio\n",
       "1         vandalismo    0.224176           Biobio\n",
       "2  movimiento social    0.309890           Biobio\n",
       "3          represión    0.183516           Biobio\n",
       "4   derechos humanos    0.105495           Biobio\n",
       "0           gobierno    0.227273  El Desconcierto\n",
       "1         vandalismo    0.130435  El Desconcierto\n",
       "2  movimiento social    0.264822  El Desconcierto\n",
       "3          represión    0.201581  El Desconcierto\n",
       "4   derechos humanos    0.175889  El Desconcierto"
      ]
     },
     "execution_count": 116,
     "metadata": {},
     "output_type": "execute_result"
    }
   ],
   "source": [
    "concat_reshaped_results = pd.concat((biobio_reshaped, el_desconcierto_reshaped))\n",
    "concat_reshaped_results"
   ]
  },
  {
   "cell_type": "markdown",
   "metadata": {},
   "source": [
    "## Graficar"
   ]
  },
  {
   "cell_type": "code",
   "execution_count": 129,
   "metadata": {
    "ExecuteTime": {
     "end_time": "2019-10-25T17:29:42.268816Z",
     "start_time": "2019-10-25T17:29:41.926858Z"
    }
   },
   "outputs": [
    {
     "data": {
      "text/plain": [
       "<seaborn.axisgrid.FacetGrid at 0x1b2bebf6cc0>"
      ]
     },
     "execution_count": 129,
     "metadata": {},
     "output_type": "execute_result"
    },
    {
     "data": {
      "image/png": "[encoded data removed]",
      "text/plain": [
       "<Figure size 545.75x432 with 1 Axes>"
      ]
     },
     "metadata": {
      "needs_background": "light"
     },
     "output_type": "display_data"
    }
   ],
   "source": [
    "g = sns.catplot(x=\"topic\", y=\"percentage\", hue=\"source\", data=concat_reshaped_results,\n",
    "                height=6, kind=\"bar\", palette=\"muted\")\n",
    "\n",
    "g.despine(left=True)\n",
    "g.set_ylabels(\"Importancia del tópico\")\n",
    "g.set_xlabels(\"Tópico\")\n",
    "g.set_xticklabels(rotation=30)\n",
    "\n",
    "#Importancia de los tópicos según fuente de información\n"
   ]
  }
 ],
 "metadata": {
  "kernelspec": {
   "display_name": "Python 3",
   "language": "python",
   "name": "python3"
  },
  "language_info": {
   "codemirror_mode": {
    "name": "ipython",
    "version": 3
   },
   "file_extension": ".py",
   "mimetype": "text/x-python",
   "name": "python",
   "nbconvert_exporter": "python",
   "pygments_lexer": "ipython3",
   "version": "3.7.3"
  },
  "toc": {
   "base_numbering": 1,
   "nav_menu": {},
   "number_sections": true,
   "sideBar": true,
   "skip_h1_title": true,
   "title_cell": "Table of Contents",
   "title_sidebar": "Contents",
   "toc_cell": false,
   "toc_position": {},
   "toc_section_display": true,
   "toc_window_display": false
  },
  "varInspector": {
   "cols": {
    "lenName": 16,
    "lenType": 16,
    "lenVar": 40
   },
   "kernels_config": {
    "python": {
     "delete_cmd_postfix": "",
     "delete_cmd_prefix": "del ",
     "library": "var_list.py",
     "varRefreshCmd": "print(var_dic_list())"
    },
    "r": {
     "delete_cmd_postfix": ") ",
     "delete_cmd_prefix": "rm(",
     "library": "var_list.r",
     "varRefreshCmd": "cat(var_dic_list()) "
    }
   },
   "types_to_exclude": [
    "module",
    "function",
    "builtin_function_or_method",
    "instance",
    "_Feature"
   ],
   "window_display": false
  }
 },
 "nbformat": 4,
 "nbformat_minor": 2
}
